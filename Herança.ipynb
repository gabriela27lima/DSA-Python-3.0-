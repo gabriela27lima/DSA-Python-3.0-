{
 "cells": [
  {
   "cell_type": "code",
   "execution_count": 1,
   "metadata": {},
   "outputs": [],
   "source": [
    "import math as m\n",
   ]
  },
  {
   "cell_type": "code",
   "execution_count": 2,
   "metadata": {},
   "outputs": [],
   "source": [
    "class paciente:\n",
    "    def __init__ (self, nome,nome_medicamento, dose, via):\n",
    "        self.nome=nome\n",
    "        self.nome_medicamento=nome_medicamento\n",
    "        self.dose=dose\n",
    "        self.via=via\n",
    "        print('Paciente incluído com sucesso.')\n",
    "        if via == 'ev':\n",
    "            print (\"Este medicamento deverá ser feito em uma unidade hospitalar\")\n",
    "        else:\n",
    "            print('Verificar se o paciente poderá administrar o medicamento em casa')\n",
    "        "
   ]
  },
  {
   "cell_type": "code",
   "execution_count": 3,
   "metadata": {},
   "outputs": [],
   "source": [
    "class antibiotico(paciente):\n",
    "    pass"
   ]
  },
  {
   "cell_type": "code",
   "execution_count": 4,
   "metadata": {},
   "outputs": [],
   "source": [
    "class quimioterapico(paciente):   \n",
    "    def area_corporal(self,altura,peso):\n",
    "        self.altura=altura\n",
    "        self.peso=peso\n",
    "        calculo_areacorporal = float(m.sqrt((altura * peso)/3600))\n",
    "        return 'A área da superficie corporal do paciente %s é %.2fm²' %(self.nome, calculo_areacorporal)"
   ]
  },
  {
   "cell_type": "code",
   "execution_count": 5,
   "metadata": {},
   "outputs": [
    {
     "name": "stdout",
     "output_type": "stream",
     "text": [
      "Paciente incluído com sucesso.\n",
      "Verificar se o paciente poderá administrar o medicamento em casa\n"
     ]
    }
   ],
   "source": [
    "pct1= antibiotico (\"Luiza\",'penicilina', '100mg', 'vo')"
   ]
  },
  {
   "cell_type": "code",
   "execution_count": 6,
   "metadata": {},
   "outputs": [
    {
     "name": "stdout",
     "output_type": "stream",
     "text": [
      "Paciente incluído com sucesso.\n",
      "Este medicamento deverá ser feito em uma unidade hospitalar\n"
     ]
    }
   ],
   "source": [
    "pct2 = quimioterapico('Rodrigo','Etoposide','250mg', 'ev')"
   ]
  },
  {
   "cell_type": "code",
   "execution_count": 7,
   "metadata": {},
   "outputs": [
    {
     "data": {
      "text/plain": [
       "'A área da superficie corporal do paciente Rodrigo é 1.71m²'"
      ]
     },
     "execution_count": 7,
     "metadata": {},
     "output_type": "execute_result"
    }
   ],
   "source": [
    "pct2.area_corporal(154,68)"
   ]
  },
  {
   "cell_type": "code",
   "execution_count": null,
   "metadata": {},
   "outputs": [],
   "source": []
  },
  {
   "cell_type": "code",
   "execution_count": null,
   "metadata": {},
   "outputs": [],
   "source": []
  },
  {
   "cell_type": "code",
   "execution_count": null,
   "metadata": {},
   "outputs": [],
   "source": []
  }
 ],
 "metadata": {
  "kernelspec": {
   "display_name": "Python 3",
   "language": "python",
   "name": "python3"
  },
  "language_info": {
   "codemirror_mode": {
    "name": "ipython",
    "version": 3
   },
   "file_extension": ".py",
   "mimetype": "text/x-python",
   "name": "python",
   "nbconvert_exporter": "python",
   "pygments_lexer": "ipython3",
   "version": "3.8.5"
  },
  "varInspector": {
   "cols": {
    "lenName": 16,
    "lenType": 16,
    "lenVar": 40
   },
   "kernels_config": {
    "python": {
     "delete_cmd_postfix": "",
     "delete_cmd_prefix": "del ",
     "library": "var_list.py",
     "varRefreshCmd": "print(var_dic_list())"
    },
    "r": {
     "delete_cmd_postfix": ") ",
     "delete_cmd_prefix": "rm(",
     "library": "var_list.r",
     "varRefreshCmd": "cat(var_dic_list()) "
    }
   },
   "types_to_exclude": [
    "module",
    "function",
    "builtin_function_or_method",
    "instance",
    "_Feature"
   ],
   "window_display": false
  }
 },
 "nbformat": 4,
 "nbformat_minor": 4
}
